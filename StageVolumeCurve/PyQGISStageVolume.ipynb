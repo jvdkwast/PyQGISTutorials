{
 "cells": [
  {
   "cell_type": "markdown",
   "metadata": {},
   "source": [
    "# Création d´une courbe de niveau-volume avec PyQGIS"
   ]
  },
  {
   "cell_type": "markdown",
   "metadata": {},
   "source": [
    "Ce Notebook Jupyter vous guide dans le processus d'utilisation de PyQGIS pour créer une courbe de niveau-volume à partir d'un DEM (MNE). Le notebook suit le même code que celui utilisé pour le tutoriel dans QGIS, mais peut s'exécuter sans l'interface QGIS.\n",
    "\n",
    "## 1. Importer les packages \n",
    "Commençons par importer les packages nécessaires à PyQGIS."
   ]
  },
  {
   "cell_type": "code",
   "execution_count": null,
   "metadata": {},
   "outputs": [],
   "source": [
    "from qgis.core import (\n",
    "     QgsApplication, \n",
    "     QgsProcessingFeedback,\n",
    "     QgsRasterLayer,\n",
    "     QgsVectorLayer,\n",
    "     QgsField,\n",
    "     QgsVectorFileWriter\n",
    ")\n",
    "\n",
    "from qgis.PyQt.QtCore import QVariant"
   ]
  },
  {
   "cell_type": "markdown",
   "metadata": {},
   "source": [
    "`QgsApplication` est nécessaire pour exécuter QGIS et `QgsProcessingFeedback` iest nécessaire pour exécuter les outils de traitement. Nous avons besoin de `QgsRasterLayer` et `QgsVectorLayer` tpour travailler avec des couches matricielles et vectorielles respectivement. `QgsField` est nécessaire pour manipuler les champs dans les tables d'attributs. Nous utilisons  `QVariant` pour définir le type de données des champs. Nous avons besoin de `QgsVectorFileWriter` pour écrire la sortie dans un fichier `.csv`."
   ]
  },
  {
   "cell_type": "markdown",
   "metadata": {},
   "source": [
    "## 2. Initialiser QGIS sans interface\n",
    "L'étape suivante consiste à démarrer QGIS sans l'interface.\n",
    "Le `setPrefixPath` doit pointer vers votre environnement. Dans ce cas, il pointe vers mon dossier utilisateur et l'environnement `tutorials` peut être trouvé sous `Anaconda3/envs`.\n",
    "Les deux autres lignes sont nécessaires pour initialiser QGIS. Lorsque vous exécutez le code, ignorez l'avertissement de dépréciation qui peut apparaître."
   ]
  },
  {
   "cell_type": "code",
   "execution_count": null,
   "metadata": {},
   "outputs": [],
   "source": [
    "QgsApplication.setPrefixPath('C:/Users/hansa/Anaconda3/envs/tutorials', True)\n",
    "qgs = QgsApplication([], False)\n",
    "qgs.initQgis()"
   ]
  },
  {
   "cell_type": "markdown",
   "metadata": {},
   "source": [
    "## 3. Chargez la couche raster du DEM\n",
    "Notre DEM est stocké dans un GeoPackage dans notre dossier `Data`. Définissons le dossier (nous en aurons besoin plus tard aussi, donc nous le mettons dans une variable séparée) et le jeu de données."
   ]
  },
  {
   "cell_type": "code",
   "execution_count": null,
   "metadata": {},
   "outputs": [],
   "source": [
    "projectPath = \"./Data/\"\n",
    "inputRasterDEM = \"GPKG:\" + projectPath + \"data_stagevolume.gpkg:DTM\""
   ]
  },
  {
   "cell_type": "markdown",
   "metadata": {},
   "source": [
    "Maintenant nous pouvons ouvrir la couche raster DEM en utilisant `QgsRasterLayer`, qui a besoin du nom du fichier (`inputRasterDEM`), du nom de la couche `\"DEM\"` et nous ajoutons `\"gdal\"`, car c'est un format supporté par GDAL."
   ]
  },
  {
   "cell_type": "code",
   "execution_count": null,
   "metadata": {},
   "outputs": [],
   "source": [
    "demLayer = QgsRasterLayer(inputRasterDEM,\"DEM\",\"gdal\")"
   ]
  },
  {
   "cell_type": "markdown",
   "metadata": {},
   "source": [
    "## 4. Calculer les statistiques de la bande pour déterminer la plage et l'incrément\n",
    "Nous devons d'abord déterminer la plage d'élévations. Avec `bandStatistics`, nous pouvons calculer des statistiques à partir de la couche matricielle. Comme nous avons un raster à une seule bande, nous utilisons `bandstatistics(1)` pour nous référer à la bande 1, la seule bande de notre raster. Nous pouvons maintenant utiliser `minimumValue` et `maximumValue` et imprimer les résultats. [Ici] (https://opensourceoptions.com/blog/pyqgis-get-raster-band-statistics/) vous trouvezez des informations sur les statistiques des bandes"
   ]
  },
  {
   "cell_type": "code",
   "execution_count": null,
   "metadata": {},
   "outputs": [],
   "source": [
    "stats = demLayer.dataProvider().bandStatistics(1)\n",
    "demMinimum = stats.minimumValue\n",
    "demMaximum = stats.maximumValue\n",
    "print(\"min:\",demMinimum,\"m\")\n",
    "print(\"max:\",demMaximum,\"m\")"
   ]
  },
  {
   "cell_type": "markdown",
   "metadata": {},
   "source": [
    "Quelle est la valeur moyenne du raster ? Essayez d'écrire le code dans le champ ci-dessous."
   ]
  },
  {
   "cell_type": "code",
   "execution_count": null,
   "metadata": {},
   "outputs": [],
   "source": []
  },
  {
   "cell_type": "markdown",
   "metadata": {},
   "source": [
    "Au lieu de soustraire `demMinimum` de `demMaximum`, nous pouvons aussi obtenir directement la plage en utilisant `range`."
   ]
  },
  {
   "cell_type": "code",
   "execution_count": null,
   "metadata": {},
   "outputs": [],
   "source": [
    "demRange = stats.range\n",
    "print(\"Elevation Difference:\",demRange,\"m\")"
   ]
  },
  {
   "cell_type": "markdown",
   "metadata": {},
   "source": [
    "L'étape suivante consiste à déterminer un incrément du niveau pour lequel nous voulons avoir le volume correspondant plus tard.\n",
    "Utilisons un incrément de 10% de la plage."
   ]
  },
  {
   "cell_type": "code",
   "execution_count": null,
   "metadata": {},
   "outputs": [],
   "source": [
    "increment = demRange / 10.0\n",
    "print(\"Increment:\",increment)"
   ]
  },
  {
   "cell_type": "markdown",
   "metadata": {},
   "source": [
    "## 5. Itération sur les incréments d'élévation et calcul des volumes correspondants\n",
    "Maintenant nous pouvons initialiser l'itération sur l'incrément. Nous devons définir un compteur `i=0` et créer une liste vide (`dbfList`) pour les fichiers `.dbf` qui sont créés à chaque itération."
   ]
  },
  {
   "cell_type": "code",
   "execution_count": null,
   "metadata": {},
   "outputs": [],
   "source": [
    "i = 0\n",
    "dbfList = []"
   ]
  },
  {
   "cell_type": "markdown",
   "metadata": {},
   "source": [
    "Python ne peut pas itérer avec des \"floats\" (chars), donc nous définissons une fonction `frange` pour gérer cela :"
   ]
  },
  {
   "cell_type": "code",
   "execution_count": null,
   "metadata": {},
   "outputs": [],
   "source": [
    "def frange(start, stop, step):\n",
    "    i = start\n",
    "    while i < stop:\n",
    "        yield i\n",
    "        i += step"
   ]
  },
  {
   "cell_type": "markdown",
   "metadata": {},
   "source": [
    "Maintenant nous pouvons boucler sur la gamme d'élévation de `demMinimum` à `demMaximum` avec le `increment` comme taille de pas.\n",
    "\n",
    "Pour utiliser les outils de traitement de QGIS, nous devons d'abord importer `QgsNativeAlgorithms` de `qgis.analysis`, les ajouter à l'application et importer `processing`.\n",
    "\n",
    "Dans la boucle, nous créons d'abord le nom du fichier de sortie de la table `.dbf`.\n",
    "Puis nous exécutons l'outil `rastersurfacevolume` en passant les variables correctes au dictionnaire. Rappelez-vous que nous obtenons le dictionnaire d'un outil de traitement à partir de l'historique de la *Boîte à outils de traitement* en exécutant d'abord l'outil.\n",
    "Après avoir lancé l'outil, nous devons lire la table `.dbf` de sortie. Ensuite, nous créons une autre boucle sur les lignes (caractéristiques) dans le tableau : `for feature in dbfTable.getFeatures():`.\n",
    "Pour chaque ligne, nous convertissons le volume en valeur absolue et de m3 en km3. Le résultat de ce calcul doit ensuite être stocké dans la table. Nous ajoutons deux nouveaux champs avec `addAtrributes` : *Niveau* et *VolAbsKm3*. Tous deux ont le type de données Double, indiqué par `QVariant.Double`. Après avoir défini les nouveaux champs, nous pouvons les ajouter à la table avec `updateFields()`. Ensuite, nous devons écrire les valeurs de `level` et `VolumeKm3` dans les champs correspondants. Avec `startEditing()`, nous passons en mode édition. Avec une autre boucle sur les caractéristiques, nous attribuons les nouvelles valeurs avec `updateFeature` et sauvegardons les changements avec `commitChanges()`.\n",
    "\n",
    "A la fin de la boucle principale, nous ajoutons les fichiers `dbf` à la `dbfList` que nous avons initialisée auparavant."
   ]
  },
  {
   "cell_type": "code",
   "execution_count": null,
   "metadata": {},
   "outputs": [],
   "source": [
    "from qgis.analysis import QgsNativeAlgorithms\n",
    "\n",
    "QgsApplication.processingRegistry().addProvider(QgsNativeAlgorithms())\n",
    "\n",
    "import processing\n",
    "\n",
    "for level in frange(demMinimum,demMaximum + 1,increment):\n",
    "    # Define the output table name\n",
    "    outTable = projectPath +\"volume\" + str(round(level*100.0))\n",
    "    outTableDbf = outTable + \".dbf\"\n",
    "    \n",
    "    # Run the raster surface volume tool with the variables\n",
    "    Tool = processing.run(\"native:rastersurfacevolume\", {'INPUT':demLayer,\n",
    "                                                         'BAND':1,\n",
    "                                                         'LEVEL':level,\n",
    "                                                         'METHOD':1,\n",
    "                                                         'OUTPUT_HTML_FILE':'TEMPORARY_OUTPUT',\n",
    "                                                         'OUTPUT_TABLE':outTable + \".shp\"})\n",
    "    \n",
    "    # Read the table\n",
    "    dbfTable = QgsVectorLayer(outTableDbf, outTable, \"ogr\")\n",
    "    \n",
    "    # Convert the volumes from m3 to km3\n",
    "    for feature in dbfTable.getFeatures():\n",
    "        VolumeKm3 = abs(feature[\"Volume\"])/1000000000.0\n",
    "    \n",
    "    # Add the level and volume in km3 fields to the table\n",
    "    pr = dbfTable.dataProvider()\n",
    "    pr.addAttributes([QgsField(\"Level\", QVariant.Double),QgsField(\"VolAbsKm3\", QVariant.Double)])\n",
    "    dbfTable.updateFields()\n",
    "    dbfTable.startEditing()\n",
    "    for f in dbfTable.getFeatures():\n",
    "        f[\"Level\"] = level\n",
    "        f[\"VolAbsKm3\"] = VolumeKm3\n",
    "        dbfTable.updateFeature(f)\n",
    "    dbfTable.commitChanges()\n",
    " \n",
    "    dbfList.append(outTableDbf)"
   ]
  },
  {
   "cell_type": "markdown",
   "metadata": {},
   "source": [
    "## 6. Fusionner tous les fichiers dbf dans un tableau de niveau-volume \n",
    "Maintenant, tous les fichiers `dbf` créés dans la boucle précédente peuvent être fusionnés en un seul tableau de niveua-volume. Nous utilisons l'outil de traitement `mergevectorlayers` et traitons les fichiers dans la `dbfList`. Notez que la sortie est un shapefile. Mais les fichiers shapefiles ont aussi un fichier `.dbf`."
   ]
  },
  {
   "cell_type": "code",
   "execution_count": null,
   "metadata": {},
   "outputs": [],
   "source": [
    "# Merge all dbf files into one\n",
    "processing.run(\"native:mergevectorlayers\", {'LAYERS':dbfList,\n",
    "                                            'CRS':None,\n",
    "                                            'OUTPUT':projectPath + 'stagevolume.shp'})"
   ]
  },
  {
   "cell_type": "markdown",
   "metadata": {},
   "source": [
    "## 7. Tracer la courbe de niveau-volume avec Python\n",
    "\n",
    "Le fichier `stagevolume.dbf` peut être ajouté à QGIS et utilisé pour tracer la courbe de niveau-volume avec le plugin Data Plotly comme décrit dans l'autre tutoriel. Ici cependant, nous voulons procéder à la création de la courbe sans l'interface graphique de QGIS. Il est donc préférable de convertir le fichier DBF au format CSV.\n",
    "\n",
    "Tout d'abord, nous lisons le fichier DBF avec PyQGIS :"
   ]
  },
  {
   "cell_type": "code",
   "execution_count": null,
   "metadata": {},
   "outputs": [],
   "source": [
    "vlayer = QgsVectorLayer(projectPath + 'stagevolume.dbf', \"StageVolume\", \"ogr\")"
   ]
  },
  {
   "cell_type": "markdown",
   "metadata": {},
   "source": [
    "Avec `QgsVectorFileWriter.writeAsVectorFormat` nous pouvons convertir ce fichier au format CSV :"
   ]
  },
  {
   "cell_type": "code",
   "execution_count": null,
   "metadata": {},
   "outputs": [],
   "source": [
    "QgsVectorFileWriter.writeAsVectorFormat(vlayer, \"./Data/stagevolume.csv\", \"utf-8\", vlayer.crs(), \"CSV\", layerOptions = ['GEOMETRY=AS_XYZ'])"
   ]
  },
  {
   "cell_type": "markdown",
   "metadata": {},
   "source": [
    "Avec Pandas, nous pouvons lire le CSV et tracer un graphique linéaire :"
   ]
  },
  {
   "cell_type": "code",
   "execution_count": null,
   "metadata": {},
   "outputs": [],
   "source": [
    "import pandas as pd\n",
    "%matplotlib inline\n",
    "\n",
    "df  = pd.read_csv(\"./Data/stagevolume.csv\")\n",
    "df.plot(kind='line',x='VolAbsKm3',y='Level', title='Stage Volume Curve', xlabel='Volume (km3)', ylabel='Level (m above sea level)', legend=False)"
   ]
  },
  {
   "cell_type": "markdown",
   "metadata": {},
   "source": [
    "*Par __[Hans van der Kwast](http://www.linkedin.com/in/jvdkwast)__*<br>\n",
    "*__[IHE Delft Institute for Water Education](http://www.un-ihe.org)__*<br>\n",
    "*Twitter: @hansakwast*\n",
    "\n",
    "*Ces matérials sont en libre accès, sous la license [CC By-NC 4.0](https://creativecommons.org/licenses/by-nc/4.0/)*"
   ]
  }
 ],
 "metadata": {
  "kernelspec": {
   "display_name": "Python 3",
   "language": "python",
   "name": "python3"
  },
  "language_info": {
   "codemirror_mode": {
    "name": "ipython",
    "version": 3
   },
   "file_extension": ".py",
   "mimetype": "text/x-python",
   "name": "python",
   "nbconvert_exporter": "python",
   "pygments_lexer": "ipython3",
   "version": "3.7.9"
  }
 },
 "nbformat": 4,
 "nbformat_minor": 4
}
