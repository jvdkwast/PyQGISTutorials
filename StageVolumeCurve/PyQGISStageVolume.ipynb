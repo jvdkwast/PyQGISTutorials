{
 "cells": [
  {
   "cell_type": "markdown",
   "metadata": {},
   "source": [
    "# Create a Stage Volume Curve with PyQGIS"
   ]
  },
  {
   "cell_type": "markdown",
   "metadata": {},
   "source": [
    "This Jupyter Notebook guides you to the process of using PyQGIS to create a stage volume curve from a DEM. The notebook follows the same code as used for the tutorial in QGIS, but can run without the QGIS interface.\n",
    "\n",
    "## 1. Import libraries\n",
    "Let's first import the necessary libraries for PyQGIS."
   ]
  },
  {
   "cell_type": "code",
   "execution_count": null,
   "metadata": {},
   "outputs": [],
   "source": [
    "from qgis.core import (\n",
    "     QgsApplication, \n",
    "     QgsProcessingFeedback,\n",
    "     QgsRasterLayer,\n",
    "     QgsVectorLayer,\n",
    "     QgsField,\n",
    "     QgsVectorFileWriter\n",
    ")\n",
    "\n",
    "from qgis.PyQt.QtCore import QVariant"
   ]
  },
  {
   "cell_type": "markdown",
   "metadata": {},
   "source": [
    "`QgsApplication` is needed to run QGIS and `QgsProcessingFeedback` is needed to run processing tools. We need `QgsRasterLayer` and `QgsVectorLayer` to work with raster and vector layers respectively. `QgsField` is needed manipulate fields in attribute tables. We use `QVariant` to set the data type of the fields. We need `QgsVectorFileWriter` to write the output to a `.csv` file."
   ]
  },
  {
   "cell_type": "markdown",
   "metadata": {},
   "source": [
    "## 2. Initialise QGIS without interface\n",
    "The next step is to start QGIS without the interface.\n",
    "The `setPrefixPath` needs to point to your  Miniconda environment. In this case it points to my user folder and the environment `tutorials` can be found under `miniconda3/envs`. For Anaconda you can find `Anaconda3/envs` on your computer.\n",
    "The other two lines are needed to intialise QGIS. When you run the code ignore the depreciation warning that can show up."
   ]
  },
  {
   "cell_type": "code",
   "execution_count": null,
   "metadata": {},
   "outputs": [],
   "source": [
    "QgsApplication.setPrefixPath('C:/Users/jvdkw/miniconda3/envs/tutorials', True)\n",
    "qgs = QgsApplication([], False)\n",
    "qgs.initQgis()"
   ]
  },
  {
   "cell_type": "markdown",
   "metadata": {},
   "source": [
    "## 3. Load the DEM raster layer\n",
    "Our DEM is stored in a GeoPackage in our `Data` folder. Let's define the folder (we need it later too, therefore we put it in a separate variable) and the dataset."
   ]
  },
  {
   "cell_type": "code",
   "execution_count": null,
   "metadata": {},
   "outputs": [],
   "source": [
    "projectPath = \"./Data/\"\n",
    "inputRasterDEM = \"GPKG:\" + projectPath + \"data_stagevolume.gpkg:DTM\""
   ]
  },
  {
   "cell_type": "markdown",
   "metadata": {},
   "source": [
    "Now we can open the DEM raster layer using `QgsRasterLayer`, which needs the file name (`inputRasterDEM`), name of the layer `\"DEM\"` and we add `\"gdal\"`, because it's a GDAL supported format."
   ]
  },
  {
   "cell_type": "code",
   "execution_count": null,
   "metadata": {},
   "outputs": [],
   "source": [
    "demLayer = QgsRasterLayer(inputRasterDEM,\"DEM\",\"gdal\")"
   ]
  },
  {
   "cell_type": "markdown",
   "metadata": {},
   "source": [
    "## 4. Calculate band statistics to determine the range and increment\n",
    "We need to determine the range of elevations first. With `bandStatistics` we can calculate statistics from the raster layer. Because we have a single band raster we use `bandstatistics(1)` to refer to band 1, the only band in our raster. We can now use `minimumValue` and `maximumValue` and print the results. [Here](https://opensourceoptions.com/blog/pyqgis-get-raster-band-statistics/) you can find info on the band statistics."
   ]
  },
  {
   "cell_type": "code",
   "execution_count": null,
   "metadata": {},
   "outputs": [],
   "source": [
    "stats = demLayer.dataProvider().bandStatistics(1)\n",
    "demMinimum = stats.minimumValue\n",
    "demMaximum = stats.maximumValue\n",
    "print(\"min:\",demMinimum,\"m\")\n",
    "print(\"max:\",demMaximum,\"m\")"
   ]
  },
  {
   "cell_type": "markdown",
   "metadata": {},
   "source": [
    "What is the mean value of the raster? Try to write the code in the field below."
   ]
  },
  {
   "cell_type": "code",
   "execution_count": null,
   "metadata": {},
   "outputs": [],
   "source": []
  },
  {
   "cell_type": "markdown",
   "metadata": {},
   "source": [
    "Instead of subtracting `demMinimum` from `demMaximum` we can also get the range directly by using `range`."
   ]
  },
  {
   "cell_type": "code",
   "execution_count": null,
   "metadata": {},
   "outputs": [],
   "source": [
    "demRange = stats.range\n",
    "print(\"Elevation Difference:\",demRange,\"m\")"
   ]
  },
  {
   "cell_type": "markdown",
   "metadata": {},
   "source": [
    "The next step is to determine an increment of the level for which we want to have the corresponding volume later.\n",
    "Let's use an increment of 10% of the range."
   ]
  },
  {
   "cell_type": "code",
   "execution_count": null,
   "metadata": {},
   "outputs": [],
   "source": [
    "increment = demRange / 10.0\n",
    "print(\"Increment:\",increment)"
   ]
  },
  {
   "cell_type": "markdown",
   "metadata": {},
   "source": [
    "## 5. Iterate over elevation increments and calculate corresponding volumes\n",
    "Now we can initialise the iteration over the increment. We need to set a counter `i=0` and create and empty list (`dbfList`) for the `.dbf` files that are created in each iteration."
   ]
  },
  {
   "cell_type": "code",
   "execution_count": null,
   "metadata": {},
   "outputs": [],
   "source": [
    "i = 0\n",
    "dbfList = []"
   ]
  },
  {
   "cell_type": "markdown",
   "metadata": {},
   "source": [
    "Python can not iterate with floats, therefore we define a function `frange` to deal with that:"
   ]
  },
  {
   "cell_type": "code",
   "execution_count": null,
   "metadata": {},
   "outputs": [],
   "source": [
    "def frange(start, stop, step):\n",
    "    i = start\n",
    "    while i < stop:\n",
    "        yield i\n",
    "        i += step"
   ]
  },
  {
   "cell_type": "markdown",
   "metadata": {},
   "source": [
    "Now we can loop over the elevation range from the `demMinimum` to `demMaximum` with the `increment` as step size.\n",
    "\n",
    "To run QGIS processing tools we need to first import `QgsNativeAlgorithms` from `qgis.analysis`, add them to the application and import `processing`.\n",
    "\n",
    "Inside the loop we first create the output file name of the `.dbf` table.\n",
    "Then we run the `rastersurfacevolume` tool by passing the correct variables to the dictionary. Remember that we get the dictionary of a processing tool from the history of the *Processing Toolbox* by first running the tool.\n",
    "After running the tool we need to read the output `.dbf` table. Then we create another loop over the rows (features) in the table: `for feature in dbfTable.getFeatures():`.\n",
    "For each row we convert the volume to the absolute value and from m3 to km3. The result of this calculation then needs to be stored in the table. We add two new fields with `addAtrributes`: *Level* and *VolAbsKm3*. Both have the data type Double, indicated with `QVariant.Double`. After defining the new fields we can add them to the table with `updateFields()`. Then we need to write the values of `level` and `VolumeKm3` to the corresponding fields. With `startEditing()` we toggle to editing mode. With another loop over the features we then assign the new values  `updateFeature` and save the changes with `commitChanges()`.\n",
    "\n",
    "Add the end of the main loop we append the `dbf` files to the `dbfList` that we initialised before.\n"
   ]
  },
  {
   "cell_type": "code",
   "execution_count": null,
   "metadata": {},
   "outputs": [],
   "source": [
    "from qgis.analysis import QgsNativeAlgorithms\n",
    "\n",
    "QgsApplication.processingRegistry().addProvider(QgsNativeAlgorithms())\n",
    "\n",
    "import processing\n",
    "\n",
    "for level in frange(demMinimum,demMaximum + 1,increment):\n",
    "    # Define the output table name\n",
    "    outTable = projectPath +\"volume\" + str(round(level*100.0))\n",
    "    outTableDbf = outTable + \".dbf\"\n",
    "    \n",
    "    # Run the raster surface volume tool with the variables\n",
    "    Tool = processing.run(\"native:rastersurfacevolume\", {'INPUT':demLayer,\n",
    "                                                         'BAND':1,\n",
    "                                                         'LEVEL':level,\n",
    "                                                         'METHOD':1,\n",
    "                                                         'OUTPUT_HTML_FILE':'TEMPORARY_OUTPUT',\n",
    "                                                         'OUTPUT_TABLE':outTable + \".shp\"})\n",
    "    \n",
    "    # Read the table\n",
    "    dbfTable = QgsVectorLayer(outTableDbf, outTable, \"ogr\")\n",
    "    \n",
    "    # Convert the volumes from m3 to km3\n",
    "    for feature in dbfTable.getFeatures():\n",
    "        VolumeKm3 = abs(feature[\"Volume\"])/1000000000.0\n",
    "    \n",
    "    # Add the level and volume in km3 fields to the table\n",
    "    pr = dbfTable.dataProvider()\n",
    "    pr.addAttributes([QgsField(\"Level\", QVariant.Double),QgsField(\"VolAbsKm3\", QVariant.Double)])\n",
    "    dbfTable.updateFields()\n",
    "    dbfTable.startEditing()\n",
    "    for f in dbfTable.getFeatures():\n",
    "        f[\"Level\"] = level\n",
    "        f[\"VolAbsKm3\"] = VolumeKm3\n",
    "        dbfTable.updateFeature(f)\n",
    "    dbfTable.commitChanges()\n",
    " \n",
    "    dbfList.append(outTableDbf)"
   ]
  },
  {
   "cell_type": "markdown",
   "metadata": {},
   "source": [
    "## 6. Merge all dbf files into one stage volume table\n",
    "Now the all `dbf` files created in the previous loop can be merged into one stage volume table. We use the processing tool `mergevectorlayers` and process the files in the `dbfList`. Note that the output is a shapefile. But shapefiles also have a `.dbf` file."
   ]
  },
  {
   "cell_type": "code",
   "execution_count": null,
   "metadata": {},
   "outputs": [],
   "source": [
    "# Merge all dbf files into one\n",
    "processing.run(\"native:mergevectorlayers\", {'LAYERS':dbfList,\n",
    "                                            'CRS':None,\n",
    "                                            'OUTPUT':projectPath + 'stagevolume.shp'})"
   ]
  },
  {
   "cell_type": "markdown",
   "metadata": {},
   "source": [
    "## 7. Plot the stage volume curve in Python\n",
    "\n",
    "The `stagevolume.dbf` file can be added to QGIS and used for plotting the stage volume curve with the Data Plotly plugin as described in the other tutorial. Here however we want to proceed with creating the curve without the QGIS GUI. Therefore it's better to convert the DBF file to CSV format.\n",
    "\n",
    "First we read the DBF file with PyQGIS:"
   ]
  },
  {
   "cell_type": "code",
   "execution_count": null,
   "metadata": {},
   "outputs": [],
   "source": [
    "vlayer = QgsVectorLayer(projectPath + 'stagevolume.dbf', \"StageVolume\", \"ogr\")"
   ]
  },
  {
   "cell_type": "markdown",
   "metadata": {},
   "source": [
    "With `QgsVectorFileWriter.writeAsVectorFormat` we can convert this file to CSV format:"
   ]
  },
  {
   "cell_type": "code",
   "execution_count": null,
   "metadata": {},
   "outputs": [],
   "source": [
    "QgsVectorFileWriter.writeAsVectorFormat(vlayer, \"./Data/stagevolume.csv\", \"utf-8\", vlayer.crs(), \"CSV\", layerOptions = ['GEOMETRY=AS_XYZ'])"
   ]
  },
  {
   "cell_type": "markdown",
   "metadata": {},
   "source": [
    "With Pandas we can read the CSV and plot a line plot:"
   ]
  },
  {
   "cell_type": "code",
   "execution_count": null,
   "metadata": {},
   "outputs": [],
   "source": [
    "import pandas as pd\n",
    "%matplotlib inline\n",
    "\n",
    "df  = pd.read_csv(\"./Data/stagevolume.csv\")\n",
    "df.plot(kind='line',x='VolAbsKm3',y='Level', title='Stage Volume Curve', xlabel='Volume (km3)', ylabel='Level (m above sea level)', legend=False)"
   ]
  },
  {
   "cell_type": "markdown",
   "metadata": {},
   "source": [
    "*By __[Hans van der Kwast](http://www.linkedin.com/in/jvdkwast)__*<br>\n",
    "*__[IHE Delft Institute for Water Education](http://www.un-ihe.org)__*<br>\n",
    "*Twitter: @hansakwast*\n",
    "\n",
    "*These materials are OpenCourseWare, licensed as [CC By-NC 4.0](https://creativecommons.org/licenses/by-nc/4.0/)*"
   ]
  }
 ],
 "metadata": {
  "kernelspec": {
   "display_name": "Python 3 (ipykernel)",
   "language": "python",
   "name": "python3"
  },
  "language_info": {
   "codemirror_mode": {
    "name": "ipython",
    "version": 3
   },
   "file_extension": ".py",
   "mimetype": "text/x-python",
   "name": "python",
   "nbconvert_exporter": "python",
   "pygments_lexer": "ipython3",
   "version": "3.9.13"
  }
 },
 "nbformat": 4,
 "nbformat_minor": 4
}
